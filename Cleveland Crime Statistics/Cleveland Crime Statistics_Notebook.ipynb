{
 "cells": [
  {
   "cell_type": "code",
   "execution_count": null,
   "metadata": {},
   "outputs": [],
   "source": [
    "#Import necessary packages\n",
    "\n",
    "import pandas as pd\n",
    "import numpy as np\n",
    "import matplotlib.pyplot as plt\n",
    "import seaborn as sns\n",
    "from encodings.aliases import aliases\n",
    "\n",
    "from uszipcode import ZipCodeSearchEngine\n",
    "\n",
    "%matplotlib inline"
   ]
  },
  {
   "cell_type": "code",
   "execution_count": null,
   "metadata": {},
   "outputs": [],
   "source": [
    "#Normalize encoding\n",
    "alias_values =set(aliases.values())\n",
    "\n",
    "for encoding in set(aliases.values()):\n",
    "    try:\n",
    "        df=pd.read_csv(\"crime.csv\", nrows=10, encoding=encoding)\n",
    "        \n",
    "        print(\"successful\", encoding)\n",
    "    except:\n",
    "        pass\n",
    "    "
   ]
  },
  {
   "cell_type": "code",
   "execution_count": null,
   "metadata": {},
   "outputs": [],
   "source": [
    "#import .csv file\n",
    "crime = pd.read_csv(\"crime.csv\")"
   ]
  },
  {
   "cell_type": "code",
   "execution_count": null,
   "metadata": {},
   "outputs": [],
   "source": [
    "crime.shape"
   ]
  },
  {
   "cell_type": "code",
   "execution_count": null,
   "metadata": {},
   "outputs": [],
   "source": [
    "#drops duplicates of entire rows    \n",
    "crime.drop_duplicates(inplace=True)\n",
    "\n",
    "#Drop rows with Null Values\n",
    "crime.dropna(axis=0, inplace=True)"
   ]
  },
  {
   "cell_type": "code",
   "execution_count": null,
   "metadata": {},
   "outputs": [],
   "source": [
    "crime.shape"
   ]
  },
  {
   "cell_type": "code",
   "execution_count": null,
   "metadata": {},
   "outputs": [],
   "source": [
    "#show dtype for each Column \n",
    "crime.info()"
   ]
  },
  {
   "cell_type": "code",
   "execution_count": null,
   "metadata": {},
   "outputs": [],
   "source": [
    "#convert Reported date from object -> Datetime   \n",
    "crime.ReportedDate = pd.to_datetime(crime.ReportedDate)\n",
    "\n",
    "#convert Zip codes to integers\n",
    "crime['Zip'] = crime['Zip'].astype(np.int64)\n",
    "\n",
    "#Format different spellings of Cleveland to say \"Cleveland\" in the Cities Column\n",
    "exclude_city = ['Cleveland Heights']\n",
    "\n",
    "crime[crime['City'].replace(exclude_city,'', regex=True)\n",
    "              .str.contains('Cleveland', case=False)\n",
    "  ]\n",
    "\n",
    "#Normalize text style of City column\n",
    "crime['City'] = crime['City'].str.title()\n",
    "\n",
    "crime['City'].value_counts(ascending=True)"
   ]
  },
  {
   "cell_type": "code",
   "execution_count": null,
   "metadata": {},
   "outputs": [],
   "source": [
    "crime.info()"
   ]
  },
  {
   "cell_type": "code",
   "execution_count": null,
   "metadata": {},
   "outputs": [],
   "source": [
    "#Statistics for Numerical Values   \n",
    "crime.describe()"
   ]
  },
  {
   "cell_type": "code",
   "execution_count": null,
   "metadata": {},
   "outputs": [],
   "source": [
    "#Statistics for Numerical and String Values\n",
    "crime.describe(include='object')"
   ]
  },
  {
   "cell_type": "code",
   "execution_count": null,
   "metadata": {},
   "outputs": [],
   "source": [
    "#List the names of the headers\n",
    "crime.columns"
   ]
  },
  {
   "cell_type": "code",
   "execution_count": null,
   "metadata": {},
   "outputs": [],
   "source": [
    "#Find columns that have null cells\n",
    "crime.columns[np.sum(crime.isnull()) !=0]"
   ]
  },
  {
   "cell_type": "code",
   "execution_count": null,
   "metadata": {},
   "outputs": [],
   "source": [
    "#Find columns with no null cells\n",
    "crime.columns[np.sum(crime.isnull()) ==0]"
   ]
  },
  {
   "cell_type": "code",
   "execution_count": null,
   "metadata": {},
   "outputs": [],
   "source": [
    "#Find the number of unique values in each column\n",
    "for col in crime.columns:\n",
    "    unique_count = crime[col].nunique()\n",
    "    print(col + \" has \" + str(unique_count) + \" unique values \")"
   ]
  },
  {
   "cell_type": "code",
   "execution_count": null,
   "metadata": {},
   "outputs": [],
   "source": [
    "#Find total Crime Description Occurances\n",
    "crime.UCRdesc.value_counts()"
   ]
  },
  {
   "cell_type": "code",
   "execution_count": null,
   "metadata": {},
   "outputs": [],
   "source": [
    "#find and plot the top 10 most common crimes\n",
    "offense_group_vals = crime.UCRdesc.value_counts()[:10]\n",
    "\n",
    "display(offense_group_vals/crime.shape[0])\n",
    "\n",
    "(offense_group_vals / crime.shape[0]).plot(kind='bar')\n",
    "plt.title('Top 10 Offense Groups (as % of crimes)')"
   ]
  },
  {
   "cell_type": "code",
   "execution_count": null,
   "metadata": {},
   "outputs": [],
   "source": [
    "#Find and plot the 10 least common crimes\n",
    "crime.UCRdesc.value_counts().sort_values(ascending=True)[:10]"
   ]
  },
  {
   "cell_type": "code",
   "execution_count": null,
   "metadata": {},
   "outputs": [],
   "source": [
    "#Create dataframe of crimes from 2016 to 2024\n",
    "recentCrime = crime.drop(crime[crime.OffenseYear < 2016].index)\n",
    "\n",
    "#Plot recentCrime Dataframe to show counts per year\n",
    "recentCrime.groupby('OffenseYear').count()['OBJECTID'].plot(kind='bar')\n",
    "plt.title('Number of Crimes')"
   ]
  },
  {
   "cell_type": "code",
   "execution_count": null,
   "metadata": {},
   "outputs": [],
   "source": [
    "#Plot Number of crimes by Day of the week\n",
    "\n",
    "recentCrime.groupby('DOWname').count()['OBJECTID'].plot(kind='bar', grid=1)\n",
    "plt.title('Number of Crimes By Day of Month')"
   ]
  },
  {
   "cell_type": "code",
   "execution_count": null,
   "metadata": {},
   "outputs": [],
   "source": [
    "#Plot Number of crimes by Hour of the day\n",
    "recentCrime.groupby('HourofDay').count()['OBJECTID'].plot(kind='bar');"
   ]
  },
  {
   "cell_type": "code",
   "execution_count": null,
   "metadata": {},
   "outputs": [],
   "source": [
    "#Rearrange Columns to run through days of week\n",
    "week_and_hour = recentCrime.groupby(['HourofDay','DOWname']).count()['OBJECTID'].unstack()\n",
    "week_and_hour = week_and_hour[['Monday', 'Tuesday', 'Wednesday', 'Thursday', 'Friday', 'Saturday', 'Sunday']]\n",
    "\n",
    "#Create a Seaborn Heatmap of the Hour of the day, Day of the Week, and Frequency of Crimes\n",
    "\n",
    "sns.heatmap(week_and_hour, cmap=sns.cubehelix_palette(as_cmap=True));\n",
    "plt.title('Crime Frequency by Hour Throughout the Week')"
   ]
  },
  {
   "cell_type": "code",
   "execution_count": null,
   "metadata": {},
   "outputs": [],
   "source": [
    "#Create a dataframe (s2) where months where average crime frequency <.3 and >-.3 are highlighted in blue\n",
    "\n",
    "avg_crime = recentCrime.groupby(['OffenseYear', 'OffenseMonth']).count()['OBJECTID'].mean()\n",
    "print(\"The Average Number of Crimes is\" + str(avg_crime))\n",
    "\n",
    "year_and_month = recentCrime.groupby(['OffenseMonth','OffenseYear']).count()['OBJECTID'].unstack()\n",
    "\n",
    "def style_negative(v, props=''):\n",
    "    return props if v<avg_crime else None\n",
    "s2 = year_and_month.style.applymap(style_negative, props = 'color:blue;').applymap(lambda v:'opacity:20%;' if(v<0.3) and (v>-.3) else None)\n",
    "s2"
   ]
  },
  {
   "cell_type": "code",
   "execution_count": null,
   "metadata": {},
   "outputs": [],
   "source": [
    "#Use the apply function to highlight the maximum value in a column in dark green\n",
    "\n",
    "def highlight_max(s, props=''):\n",
    "    return np.where(s==np.nanmax(s.values), props, '')\n",
    "s2.apply(highlight_max, props='color:white;background-color:darkgreen', axis=0)"
   ]
  },
  {
   "cell_type": "code",
   "execution_count": null,
   "metadata": {},
   "outputs": [],
   "source": [
    "#Create a heatmap of the District Crime offenses by year saved as District_year_heatmap\n",
    "\n",
    "district_and_year = recentCrime.groupby(['District', 'OffenseYear']).count()['OBJECTID'].unstack()\n",
    "\n",
    "District_year_heatmap = sns.heatmap(district_and_year, cmap=sns.cubehelix_palette(as_cmap=True));\n",
    "District_year_heatmap.set(title='Crimes per year in each District', xlabel='Year', ylabel='District')\n"
   ]
  },
  {
   "cell_type": "code",
   "execution_count": null,
   "metadata": {},
   "outputs": [],
   "source": [
    "#Create chart of average crimes per district, highlighting lower than average in blue\n",
    "\n",
    "avg_crime_district = recentCrime.groupby(['District', 'OffenseYear']).count()['OBJECTID'].mean()\n",
    "print(\"The average crime per district per year is: \" + str(avg_crime_district))\n",
    "\n",
    "def style_negative(v, props=''):\n",
    "    return props if v < avg_crime_district else None\n",
    "s3 = district_and_year.style.applymap(style_negative, props='color:blue;')\\\n",
    "              .applymap(lambda v: 'opacity: 20%;' if (v < 0.3) and (v > -0.3) else None)\n",
    "s3"
   ]
  },
  {
   "cell_type": "code",
   "execution_count": null,
   "metadata": {},
   "outputs": [],
   "source": [
    "# Highlight the maximum value in each colummn with dark red\n",
    "\n",
    "def highlight_max(s, props=''):\n",
    "    return np.where(s == np.nanmax(s.values), props, '')\n",
    "s3.apply(highlight_max, props='color:white;background-color:darkred', axis=0)"
   ]
  },
  {
   "cell_type": "code",
   "execution_count": null,
   "metadata": {},
   "outputs": [],
   "source": [
    "city_and_year = recentCrime.groupby(['City', 'OffenseYear']).count()['OBJECTID'].unstack()\n",
    "\n",
    "city_year_heatmap = sns.heatmap(city_and_year, cmap=sns.cubehelix_palette(as_cmap=True))\n",
    "\n",
    "city_year_heatmap.set(title= 'Frequency of Offenses by City',xlabel='Year', ylabel ='City')"
   ]
  },
  {
   "cell_type": "code",
   "execution_count": null,
   "metadata": {},
   "outputs": [],
   "source": [
    "#find and plot the top zip code crime areas\n",
    "\n",
    "zip_and_year = recentCrime.groupby(['Zip', 'OffenseYear']).count()['OBJECTID'].unstack()\n",
    "\n",
    "zip_year_heatmap = sns.heatmap(zip_and_year, cmap=sns.cubehelix_palette(as_cmap=True))\n",
    "\n",
    "zip_year_heatmap.set(title= 'Frequency of Offenses by Zip Code',xlabel='Year', ylabel ='Zip')\n",
    "\n",
    "\n"
   ]
  },
  {
   "cell_type": "code",
   "execution_count": null,
   "metadata": {},
   "outputs": [],
   "source": [
    "#find and plot the top 10 most common Zip Codes\n",
    "Zip_group_vals = recentCrime.Zip.value_counts()[:10]\n",
    "\n",
    "display(Zip_group_vals/crime.shape[0])\n",
    "\n",
    "(Zip_group_vals / crime.shape[0]).plot(kind='bar')\n",
    "plt.title('Top 10 Zip (as % of crimes)')"
   ]
  }
 ],
 "metadata": {
  "kernelspec": {
   "display_name": "Python 3",
   "language": "python",
   "name": "python3"
  },
  "language_info": {
   "codemirror_mode": {
    "name": "ipython",
    "version": 3
   },
   "file_extension": ".py",
   "mimetype": "text/x-python",
   "name": "python",
   "nbconvert_exporter": "python",
   "pygments_lexer": "ipython3",
   "version": "3.10.2"
  }
 },
 "nbformat": 4,
 "nbformat_minor": 2
}
