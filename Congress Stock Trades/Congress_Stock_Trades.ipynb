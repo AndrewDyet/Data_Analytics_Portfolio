{
 "cells": [
  {
   "cell_type": "code",
   "execution_count": 1,
   "metadata": {},
   "outputs": [],
   "source": [
    "import pandas as pd\n",
    "import numpy as np\n",
    "\n",
    "import seaborn as sns\n",
    "\n",
    "trades = pd.read_csv(\"trades.csv\")"
   ]
  },
  {
   "cell_type": "code",
   "execution_count": 2,
   "metadata": {},
   "outputs": [
    {
     "data": {
      "text/plain": [
       "(8446, 15)"
      ]
     },
     "execution_count": 2,
     "metadata": {},
     "output_type": "execute_result"
    }
   ],
   "source": [
    "trades.shape"
   ]
  },
  {
   "cell_type": "code",
   "execution_count": 3,
   "metadata": {},
   "outputs": [],
   "source": [
    "trades.drop_duplicates()\n",
    "#Drop rows with Null Values\n",
    "trades.dropna(axis=0, inplace=True)"
   ]
  },
  {
   "cell_type": "code",
   "execution_count": 4,
   "metadata": {},
   "outputs": [
    {
     "data": {
      "text/plain": [
       "Index(['transaction_date', 'owner', 'ticker', 'asset_description',\n",
       "       'asset_type', 'type', 'amount', 'comment', 'party', 'state', 'industry',\n",
       "       'sector', 'senator', 'ptr_link', 'disclosure_date'],\n",
       "      dtype='object')"
      ]
     },
     "execution_count": 4,
     "metadata": {},
     "output_type": "execute_result"
    }
   ],
   "source": [
    "trades.columns"
   ]
  },
  {
   "cell_type": "code",
   "execution_count": 5,
   "metadata": {},
   "outputs": [
    {
     "name": "stdout",
     "output_type": "stream",
     "text": [
      "<class 'pandas.core.frame.DataFrame'>\n",
      "Index: 5501 entries, 0 to 7642\n",
      "Data columns (total 15 columns):\n",
      " #   Column             Non-Null Count  Dtype \n",
      "---  ------             --------------  ----- \n",
      " 0   transaction_date   5501 non-null   object\n",
      " 1   owner              5501 non-null   object\n",
      " 2   ticker             5501 non-null   object\n",
      " 3   asset_description  5501 non-null   object\n",
      " 4   asset_type         5501 non-null   object\n",
      " 5   type               5501 non-null   object\n",
      " 6   amount             5501 non-null   object\n",
      " 7   comment            5501 non-null   object\n",
      " 8   party              5501 non-null   object\n",
      " 9   state              5501 non-null   object\n",
      " 10  industry           5501 non-null   object\n",
      " 11  sector             5501 non-null   object\n",
      " 12  senator            5501 non-null   object\n",
      " 13  ptr_link           5501 non-null   object\n",
      " 14  disclosure_date    5501 non-null   object\n",
      "dtypes: object(15)\n",
      "memory usage: 687.6+ KB\n"
     ]
    }
   ],
   "source": [
    "trades.info()"
   ]
  },
  {
   "cell_type": "code",
   "execution_count": 6,
   "metadata": {},
   "outputs": [],
   "source": [
    "trades.transaction_date = pd.to_datetime(trades.transaction_date)\n",
    "trades.disclosure_date = pd.to_datetime(trades.disclosure_date)"
   ]
  },
  {
   "cell_type": "code",
   "execution_count": 7,
   "metadata": {},
   "outputs": [
    {
     "data": {
      "text/html": [
       "<div>\n",
       "<style scoped>\n",
       "    .dataframe tbody tr th:only-of-type {\n",
       "        vertical-align: middle;\n",
       "    }\n",
       "\n",
       "    .dataframe tbody tr th {\n",
       "        vertical-align: top;\n",
       "    }\n",
       "\n",
       "    .dataframe thead th {\n",
       "        text-align: right;\n",
       "    }\n",
       "</style>\n",
       "<table border=\"1\" class=\"dataframe\">\n",
       "  <thead>\n",
       "    <tr style=\"text-align: right;\">\n",
       "      <th></th>\n",
       "      <th>transaction_date</th>\n",
       "      <th>owner</th>\n",
       "      <th>ticker</th>\n",
       "      <th>asset_description</th>\n",
       "      <th>asset_type</th>\n",
       "      <th>type</th>\n",
       "      <th>amount</th>\n",
       "      <th>comment</th>\n",
       "      <th>party</th>\n",
       "      <th>state</th>\n",
       "      <th>industry</th>\n",
       "      <th>sector</th>\n",
       "      <th>senator</th>\n",
       "      <th>ptr_link</th>\n",
       "      <th>disclosure_date</th>\n",
       "    </tr>\n",
       "  </thead>\n",
       "  <tbody>\n",
       "    <tr>\n",
       "      <th>0</th>\n",
       "      <td>2023-04-18</td>\n",
       "      <td>Spouse</td>\n",
       "      <td>ESS</td>\n",
       "      <td>Essex Property Trust, Inc. Common Stock</td>\n",
       "      <td>Stock</td>\n",
       "      <td>Sale (Full)</td>\n",
       "      <td>$1,001 - $15,000</td>\n",
       "      <td>--</td>\n",
       "      <td>Democrat</td>\n",
       "      <td>RI</td>\n",
       "      <td>Real Estate Investment Trusts</td>\n",
       "      <td>Consumer Services</td>\n",
       "      <td>Sheldon Whitehouse</td>\n",
       "      <td>https://efdsearch.senate.gov/search/view/ptr/9...</td>\n",
       "      <td>2023-05-17</td>\n",
       "    </tr>\n",
       "    <tr>\n",
       "      <th>1</th>\n",
       "      <td>2023-04-18</td>\n",
       "      <td>Self</td>\n",
       "      <td>ESS</td>\n",
       "      <td>Essex Property Trust, Inc. Common Stock</td>\n",
       "      <td>Stock</td>\n",
       "      <td>Sale (Full)</td>\n",
       "      <td>$1,001 - $15,000</td>\n",
       "      <td>--</td>\n",
       "      <td>Democrat</td>\n",
       "      <td>RI</td>\n",
       "      <td>Real Estate Investment Trusts</td>\n",
       "      <td>Consumer Services</td>\n",
       "      <td>Sheldon Whitehouse</td>\n",
       "      <td>https://efdsearch.senate.gov/search/view/ptr/9...</td>\n",
       "      <td>2023-05-17</td>\n",
       "    </tr>\n",
       "    <tr>\n",
       "      <th>3</th>\n",
       "      <td>2023-04-04</td>\n",
       "      <td>Spouse</td>\n",
       "      <td>UPS</td>\n",
       "      <td>United Parcel Service, Inc. Common Stock</td>\n",
       "      <td>Stock</td>\n",
       "      <td>Sale (Full)</td>\n",
       "      <td>$1,001 - $15,000</td>\n",
       "      <td>--</td>\n",
       "      <td>Republican</td>\n",
       "      <td>WV</td>\n",
       "      <td>Trucking Freight/Courier Services</td>\n",
       "      <td>Transportation</td>\n",
       "      <td>Shelley Moore Capito</td>\n",
       "      <td>https://efdsearch.senate.gov/search/view/ptr/6...</td>\n",
       "      <td>2023-05-15</td>\n",
       "    </tr>\n",
       "    <tr>\n",
       "      <th>4</th>\n",
       "      <td>2023-04-04</td>\n",
       "      <td>Spouse</td>\n",
       "      <td>MCD</td>\n",
       "      <td>McDonald's Corporation Common Stock</td>\n",
       "      <td>Stock</td>\n",
       "      <td>Sale (Partial)</td>\n",
       "      <td>$1,001 - $15,000</td>\n",
       "      <td>--</td>\n",
       "      <td>Republican</td>\n",
       "      <td>WV</td>\n",
       "      <td>Restaurants</td>\n",
       "      <td>Consumer Services</td>\n",
       "      <td>Shelley Moore Capito</td>\n",
       "      <td>https://efdsearch.senate.gov/search/view/ptr/6...</td>\n",
       "      <td>2023-05-15</td>\n",
       "    </tr>\n",
       "    <tr>\n",
       "      <th>5</th>\n",
       "      <td>2023-04-04</td>\n",
       "      <td>Spouse</td>\n",
       "      <td>DUK</td>\n",
       "      <td>Duke Energy Corporation (Holding Company) Comm...</td>\n",
       "      <td>Stock</td>\n",
       "      <td>Sale (Full)</td>\n",
       "      <td>$15,001 - $50,000</td>\n",
       "      <td>--</td>\n",
       "      <td>Republican</td>\n",
       "      <td>WV</td>\n",
       "      <td>Power Generation</td>\n",
       "      <td>Public Utilities</td>\n",
       "      <td>Shelley Moore Capito</td>\n",
       "      <td>https://efdsearch.senate.gov/search/view/ptr/6...</td>\n",
       "      <td>2023-05-15</td>\n",
       "    </tr>\n",
       "    <tr>\n",
       "      <th>...</th>\n",
       "      <td>...</td>\n",
       "      <td>...</td>\n",
       "      <td>...</td>\n",
       "      <td>...</td>\n",
       "      <td>...</td>\n",
       "      <td>...</td>\n",
       "      <td>...</td>\n",
       "      <td>...</td>\n",
       "      <td>...</td>\n",
       "      <td>...</td>\n",
       "      <td>...</td>\n",
       "      <td>...</td>\n",
       "      <td>...</td>\n",
       "      <td>...</td>\n",
       "      <td>...</td>\n",
       "    </tr>\n",
       "    <tr>\n",
       "      <th>7627</th>\n",
       "      <td>2015-01-16</td>\n",
       "      <td>Self</td>\n",
       "      <td>NOG</td>\n",
       "      <td>Northern Oil and Gas, Inc. (AMEX)</td>\n",
       "      <td>Stock</td>\n",
       "      <td>Purchase</td>\n",
       "      <td>$15,001 - $50,000</td>\n",
       "      <td>--</td>\n",
       "      <td>Republican</td>\n",
       "      <td>ND</td>\n",
       "      <td>Oil &amp; Gas Production</td>\n",
       "      <td>Energy</td>\n",
       "      <td>John Hoeven</td>\n",
       "      <td>https://efdsearch.senate.gov/search/view/ptr/1...</td>\n",
       "      <td>2015-01-21</td>\n",
       "    </tr>\n",
       "    <tr>\n",
       "      <th>7628</th>\n",
       "      <td>2015-01-06</td>\n",
       "      <td>Self</td>\n",
       "      <td>FCX</td>\n",
       "      <td>Freeport-McMoRan Inc. (NYSE)</td>\n",
       "      <td>Stock</td>\n",
       "      <td>Sale (Full)</td>\n",
       "      <td>$50,001 - $100,000</td>\n",
       "      <td>--</td>\n",
       "      <td>Republican</td>\n",
       "      <td>ND</td>\n",
       "      <td>Precious Metals</td>\n",
       "      <td>Basic Industries</td>\n",
       "      <td>John Hoeven</td>\n",
       "      <td>https://efdsearch.senate.gov/search/view/ptr/6...</td>\n",
       "      <td>2015-01-20</td>\n",
       "    </tr>\n",
       "    <tr>\n",
       "      <th>7640</th>\n",
       "      <td>2014-12-12</td>\n",
       "      <td>Spouse</td>\n",
       "      <td>XOM</td>\n",
       "      <td>Exxon Mobil Corporation (NYSE)</td>\n",
       "      <td>Stock</td>\n",
       "      <td>Sale (Full)</td>\n",
       "      <td>$1,001 - $15,000</td>\n",
       "      <td>Sep</td>\n",
       "      <td>Republican</td>\n",
       "      <td>KS</td>\n",
       "      <td>Integrated oil Companies</td>\n",
       "      <td>Energy</td>\n",
       "      <td>Pat Roberts</td>\n",
       "      <td>https://efdsearch.senate.gov/search/view/ptr/f...</td>\n",
       "      <td>2015-01-05</td>\n",
       "    </tr>\n",
       "    <tr>\n",
       "      <th>7641</th>\n",
       "      <td>2014-12-19</td>\n",
       "      <td>Spouse</td>\n",
       "      <td>BA</td>\n",
       "      <td>The Boeing Company (NYSE)</td>\n",
       "      <td>Stock</td>\n",
       "      <td>Purchase</td>\n",
       "      <td>$1,001 - $15,000</td>\n",
       "      <td>R</td>\n",
       "      <td>Republican</td>\n",
       "      <td>KS</td>\n",
       "      <td>Aerospace</td>\n",
       "      <td>Capital Goods</td>\n",
       "      <td>Pat Roberts</td>\n",
       "      <td>https://efdsearch.senate.gov/search/view/ptr/f...</td>\n",
       "      <td>2015-01-05</td>\n",
       "    </tr>\n",
       "    <tr>\n",
       "      <th>7642</th>\n",
       "      <td>2014-12-12</td>\n",
       "      <td>Spouse</td>\n",
       "      <td>BAC</td>\n",
       "      <td>Bank of America Corporation (NYSE)</td>\n",
       "      <td>Stock</td>\n",
       "      <td>Sale (Full)</td>\n",
       "      <td>$1,001 - $15,000</td>\n",
       "      <td>R</td>\n",
       "      <td>Republican</td>\n",
       "      <td>KS</td>\n",
       "      <td>Major Banks</td>\n",
       "      <td>Finance</td>\n",
       "      <td>Pat Roberts</td>\n",
       "      <td>https://efdsearch.senate.gov/search/view/ptr/f...</td>\n",
       "      <td>2015-01-05</td>\n",
       "    </tr>\n",
       "  </tbody>\n",
       "</table>\n",
       "<p>5501 rows × 15 columns</p>\n",
       "</div>"
      ],
      "text/plain": [
       "     transaction_date   owner ticker  \\\n",
       "0          2023-04-18  Spouse    ESS   \n",
       "1          2023-04-18    Self    ESS   \n",
       "3          2023-04-04  Spouse    UPS   \n",
       "4          2023-04-04  Spouse    MCD   \n",
       "5          2023-04-04  Spouse    DUK   \n",
       "...               ...     ...    ...   \n",
       "7627       2015-01-16    Self    NOG   \n",
       "7628       2015-01-06    Self    FCX   \n",
       "7640       2014-12-12  Spouse    XOM   \n",
       "7641       2014-12-19  Spouse     BA   \n",
       "7642       2014-12-12  Spouse    BAC   \n",
       "\n",
       "                                      asset_description asset_type  \\\n",
       "0               Essex Property Trust, Inc. Common Stock      Stock   \n",
       "1               Essex Property Trust, Inc. Common Stock      Stock   \n",
       "3              United Parcel Service, Inc. Common Stock      Stock   \n",
       "4                   McDonald's Corporation Common Stock      Stock   \n",
       "5     Duke Energy Corporation (Holding Company) Comm...      Stock   \n",
       "...                                                 ...        ...   \n",
       "7627                  Northern Oil and Gas, Inc. (AMEX)      Stock   \n",
       "7628                       Freeport-McMoRan Inc. (NYSE)      Stock   \n",
       "7640                     Exxon Mobil Corporation (NYSE)      Stock   \n",
       "7641                          The Boeing Company (NYSE)      Stock   \n",
       "7642                 Bank of America Corporation (NYSE)      Stock   \n",
       "\n",
       "                type              amount comment       party state  \\\n",
       "0        Sale (Full)    $1,001 - $15,000      --    Democrat    RI   \n",
       "1        Sale (Full)    $1,001 - $15,000      --    Democrat    RI   \n",
       "3        Sale (Full)    $1,001 - $15,000      --  Republican    WV   \n",
       "4     Sale (Partial)    $1,001 - $15,000      --  Republican    WV   \n",
       "5        Sale (Full)   $15,001 - $50,000      --  Republican    WV   \n",
       "...              ...                 ...     ...         ...   ...   \n",
       "7627        Purchase   $15,001 - $50,000      --  Republican    ND   \n",
       "7628     Sale (Full)  $50,001 - $100,000      --  Republican    ND   \n",
       "7640     Sale (Full)    $1,001 - $15,000     Sep  Republican    KS   \n",
       "7641        Purchase    $1,001 - $15,000       R  Republican    KS   \n",
       "7642     Sale (Full)    $1,001 - $15,000       R  Republican    KS   \n",
       "\n",
       "                               industry             sector  \\\n",
       "0         Real Estate Investment Trusts  Consumer Services   \n",
       "1         Real Estate Investment Trusts  Consumer Services   \n",
       "3     Trucking Freight/Courier Services     Transportation   \n",
       "4                           Restaurants  Consumer Services   \n",
       "5                      Power Generation   Public Utilities   \n",
       "...                                 ...                ...   \n",
       "7627               Oil & Gas Production             Energy   \n",
       "7628                    Precious Metals   Basic Industries   \n",
       "7640           Integrated oil Companies             Energy   \n",
       "7641                          Aerospace      Capital Goods   \n",
       "7642                        Major Banks            Finance   \n",
       "\n",
       "                   senator                                           ptr_link  \\\n",
       "0       Sheldon Whitehouse  https://efdsearch.senate.gov/search/view/ptr/9...   \n",
       "1       Sheldon Whitehouse  https://efdsearch.senate.gov/search/view/ptr/9...   \n",
       "3     Shelley Moore Capito  https://efdsearch.senate.gov/search/view/ptr/6...   \n",
       "4     Shelley Moore Capito  https://efdsearch.senate.gov/search/view/ptr/6...   \n",
       "5     Shelley Moore Capito  https://efdsearch.senate.gov/search/view/ptr/6...   \n",
       "...                    ...                                                ...   \n",
       "7627           John Hoeven  https://efdsearch.senate.gov/search/view/ptr/1...   \n",
       "7628           John Hoeven  https://efdsearch.senate.gov/search/view/ptr/6...   \n",
       "7640           Pat Roberts  https://efdsearch.senate.gov/search/view/ptr/f...   \n",
       "7641           Pat Roberts  https://efdsearch.senate.gov/search/view/ptr/f...   \n",
       "7642           Pat Roberts  https://efdsearch.senate.gov/search/view/ptr/f...   \n",
       "\n",
       "     disclosure_date  \n",
       "0         2023-05-17  \n",
       "1         2023-05-17  \n",
       "3         2023-05-15  \n",
       "4         2023-05-15  \n",
       "5         2023-05-15  \n",
       "...              ...  \n",
       "7627      2015-01-21  \n",
       "7628      2015-01-20  \n",
       "7640      2015-01-05  \n",
       "7641      2015-01-05  \n",
       "7642      2015-01-05  \n",
       "\n",
       "[5501 rows x 15 columns]"
      ]
     },
     "execution_count": 7,
     "metadata": {},
     "output_type": "execute_result"
    }
   ],
   "source": [
    "trades"
   ]
  },
  {
   "cell_type": "code",
   "execution_count": 8,
   "metadata": {},
   "outputs": [
    {
     "data": {
      "text/html": [
       "<div>\n",
       "<style scoped>\n",
       "    .dataframe tbody tr th:only-of-type {\n",
       "        vertical-align: middle;\n",
       "    }\n",
       "\n",
       "    .dataframe tbody tr th {\n",
       "        vertical-align: top;\n",
       "    }\n",
       "\n",
       "    .dataframe thead th {\n",
       "        text-align: right;\n",
       "    }\n",
       "</style>\n",
       "<table border=\"1\" class=\"dataframe\">\n",
       "  <thead>\n",
       "    <tr style=\"text-align: right;\">\n",
       "      <th></th>\n",
       "      <th>owner</th>\n",
       "      <th>ticker</th>\n",
       "      <th>asset_description</th>\n",
       "      <th>asset_type</th>\n",
       "      <th>type</th>\n",
       "      <th>amount</th>\n",
       "      <th>comment</th>\n",
       "      <th>party</th>\n",
       "      <th>state</th>\n",
       "      <th>industry</th>\n",
       "      <th>sector</th>\n",
       "      <th>senator</th>\n",
       "      <th>ptr_link</th>\n",
       "    </tr>\n",
       "  </thead>\n",
       "  <tbody>\n",
       "    <tr>\n",
       "      <th>count</th>\n",
       "      <td>5501</td>\n",
       "      <td>5501</td>\n",
       "      <td>5501</td>\n",
       "      <td>5501</td>\n",
       "      <td>5501</td>\n",
       "      <td>5501</td>\n",
       "      <td>5501</td>\n",
       "      <td>5501</td>\n",
       "      <td>5501</td>\n",
       "      <td>5501</td>\n",
       "      <td>5501</td>\n",
       "      <td>5501</td>\n",
       "      <td>5501</td>\n",
       "    </tr>\n",
       "    <tr>\n",
       "      <th>unique</th>\n",
       "      <td>4</td>\n",
       "      <td>700</td>\n",
       "      <td>1299</td>\n",
       "      <td>4</td>\n",
       "      <td>4</td>\n",
       "      <td>9</td>\n",
       "      <td>121</td>\n",
       "      <td>3</td>\n",
       "      <td>31</td>\n",
       "      <td>121</td>\n",
       "      <td>18</td>\n",
       "      <td>42</td>\n",
       "      <td>660</td>\n",
       "    </tr>\n",
       "    <tr>\n",
       "      <th>top</th>\n",
       "      <td>Joint</td>\n",
       "      <td>AAPL</td>\n",
       "      <td>Apple Inc.</td>\n",
       "      <td>Stock</td>\n",
       "      <td>Purchase</td>\n",
       "      <td>$1,001 - $15,000</td>\n",
       "      <td>--</td>\n",
       "      <td>Republican</td>\n",
       "      <td>GA</td>\n",
       "      <td>Major Banks</td>\n",
       "      <td>Technology</td>\n",
       "      <td>David Perdue</td>\n",
       "      <td>https://efdsearch.senate.gov/search/view/ptr/2...</td>\n",
       "    </tr>\n",
       "    <tr>\n",
       "      <th>freq</th>\n",
       "      <td>2787</td>\n",
       "      <td>168</td>\n",
       "      <td>135</td>\n",
       "      <td>5197</td>\n",
       "      <td>2686</td>\n",
       "      <td>3819</td>\n",
       "      <td>4949</td>\n",
       "      <td>4134</td>\n",
       "      <td>1968</td>\n",
       "      <td>324</td>\n",
       "      <td>1028</td>\n",
       "      <td>1718</td>\n",
       "      <td>169</td>\n",
       "    </tr>\n",
       "  </tbody>\n",
       "</table>\n",
       "</div>"
      ],
      "text/plain": [
       "        owner ticker asset_description asset_type      type            amount  \\\n",
       "count    5501   5501              5501       5501      5501              5501   \n",
       "unique      4    700              1299          4         4                 9   \n",
       "top     Joint   AAPL        Apple Inc.      Stock  Purchase  $1,001 - $15,000   \n",
       "freq     2787    168               135       5197      2686              3819   \n",
       "\n",
       "       comment       party state     industry      sector       senator  \\\n",
       "count     5501        5501  5501         5501        5501          5501   \n",
       "unique     121           3    31          121          18            42   \n",
       "top         --  Republican    GA  Major Banks  Technology  David Perdue   \n",
       "freq      4949        4134  1968          324        1028          1718   \n",
       "\n",
       "                                                 ptr_link  \n",
       "count                                                5501  \n",
       "unique                                                660  \n",
       "top     https://efdsearch.senate.gov/search/view/ptr/2...  \n",
       "freq                                                  169  "
      ]
     },
     "execution_count": 8,
     "metadata": {},
     "output_type": "execute_result"
    }
   ],
   "source": [
    "trades.describe(include = \"object\")"
   ]
  },
  {
   "cell_type": "code",
   "execution_count": 9,
   "metadata": {},
   "outputs": [
    {
     "name": "stderr",
     "output_type": "stream",
     "text": [
      "c:\\Users\\Derex\\AppData\\Local\\Programs\\Python\\Python310\\lib\\site-packages\\numpy\\core\\fromnumeric.py:86: FutureWarning: The behavior of DataFrame.sum with axis=None is deprecated, in a future version this will reduce over both axes and return a scalar. To retain the old behavior, pass axis=0 (or do not pass axis)\n",
      "  return reduction(axis=axis, out=out, **passkwargs)\n"
     ]
    },
    {
     "data": {
      "text/plain": [
       "Index([], dtype='object')"
      ]
     },
     "execution_count": 9,
     "metadata": {},
     "output_type": "execute_result"
    }
   ],
   "source": [
    "#Find columns that have null cells\n",
    "trades.columns[np.sum(trades.isnull()) !=0]"
   ]
  },
  {
   "cell_type": "code",
   "execution_count": 10,
   "metadata": {},
   "outputs": [
    {
     "name": "stdout",
     "output_type": "stream",
     "text": [
      "transaction_date has 1292 unique values \n",
      "owner has 4 unique values \n",
      "ticker has 700 unique values \n",
      "asset_description has 1299 unique values \n",
      "asset_type has 4 unique values \n",
      "type has 4 unique values \n",
      "amount has 9 unique values \n",
      "comment has 121 unique values \n",
      "party has 3 unique values \n",
      "state has 31 unique values \n",
      "industry has 121 unique values \n",
      "sector has 18 unique values \n",
      "senator has 42 unique values \n",
      "ptr_link has 660 unique values \n",
      "disclosure_date has 551 unique values \n"
     ]
    }
   ],
   "source": [
    "#Find the number of unique values in each column\n",
    "for col in trades.columns:\n",
    "    unique_count = trades[col].nunique()\n",
    "    print(col + \" has \" + str(unique_count) + \" unique values \")"
   ]
  },
  {
   "cell_type": "code",
   "execution_count": 11,
   "metadata": {},
   "outputs": [
    {
     "data": {
      "text/plain": [
       "senator\n",
       "David Perdue            1718\n",
       "Tommy Tuberville         582\n",
       "Sheldon Whitehouse       432\n",
       "Pat Roberts              349\n",
       "Shelley Moore Capito     303\n",
       "Thomas R. Carper         279\n",
       "Kelly Loeffler           250\n",
       "Ron Wyden                208\n",
       "James M. Inhofe          171\n",
       "Bill Cassidy             149\n",
       "Jerry Moran              149\n",
       "Patty Murray             138\n",
       "Jack Reed                125\n",
       "John Hoeven              123\n",
       "Susan M. Collins          80\n",
       "Patrick J. Toomey         68\n",
       "Dan Sullivan              65\n",
       "Thom Tillis               61\n",
       "John W. Hickenlooper      45\n",
       "Gary C. Peters            44\n",
       "Angus S. King, Jr.        27\n",
       "Bill Hagerty              22\n",
       "Mitch Mcconnell           22\n",
       "Tina Smith                19\n",
       "Tammy Duckworth           17\n",
       "Jacky Rosen                8\n",
       "Chris Van Hollen           7\n",
       "Christopher A. Coons       7\n",
       "Ted Cruz                   6\n",
       "Mark R. Warner             4\n",
       "Deb Fischer                4\n",
       "Roy Blunt                  3\n",
       "Roger F. Wicker            3\n",
       "Tim Kaine                  2\n",
       "John Thune                 2\n",
       "Maria Cantwell             2\n",
       "John Cornyn                2\n",
       "Cynthia M. Lummis          1\n",
       "Tom Udall                  1\n",
       "Robert P. Casey, Jr.       1\n",
       "Joe Manchin, Iii           1\n",
       "Michael B. Enzi            1\n",
       "Name: count, dtype: int64"
      ]
     },
     "execution_count": 11,
     "metadata": {},
     "output_type": "execute_result"
    }
   ],
   "source": [
    "trades.senator.value_counts()"
   ]
  },
  {
   "cell_type": "code",
   "execution_count": 12,
   "metadata": {},
   "outputs": [
    {
     "data": {
      "text/plain": [
       "senator\n",
       "David Perdue            1718\n",
       "Tommy Tuberville         582\n",
       "Sheldon Whitehouse       432\n",
       "Pat Roberts              349\n",
       "Shelley Moore Capito     303\n",
       "Thomas R. Carper         279\n",
       "Kelly Loeffler           250\n",
       "Ron Wyden                208\n",
       "James M. Inhofe          171\n",
       "Bill Cassidy             149\n",
       "Name: count, dtype: int64"
      ]
     },
     "metadata": {},
     "output_type": "display_data"
    },
    {
     "data": {
      "text/plain": [
       "<Axes: xlabel='senator'>"
      ]
     },
     "execution_count": 12,
     "metadata": {},
     "output_type": "execute_result"
    },
    {
     "data": {
      "image/png": "[encoded data removed]",
      "text/plain": [
       "<Figure size 640x480 with 1 Axes>"
      ]
     },
     "metadata": {},
     "output_type": "display_data"
    }
   ],
   "source": [
    "#find and plot the top 10 most common crimes\n",
    "Top_Senators = trades.senator.value_counts()[:10]\n",
    "\n",
    "display(Top_Senators)\n",
    "\n",
    "(Top_Senators.plot(kind='bar'))"
   ]
  },
  {
   "cell_type": "code",
   "execution_count": 13,
   "metadata": {},
   "outputs": [
    {
     "data": {
      "text/plain": [
       "party\n",
       "Republican     4134\n",
       "Democrat       1340\n",
       "Independent      27\n",
       "Name: count, dtype: int64"
      ]
     },
     "metadata": {},
     "output_type": "display_data"
    },
    {
     "data": {
      "text/plain": [
       "<Axes: xlabel='party'>"
      ]
     },
     "execution_count": 13,
     "metadata": {},
     "output_type": "execute_result"
    },
    {
     "data": {
      "image/png": "[encoded data removed]",
      "text/plain": [
       "<Figure size 640x480 with 1 Axes>"
      ]
     },
     "metadata": {},
     "output_type": "display_data"
    }
   ],
   "source": [
    "#find and plot the top 10 most common crimes\n",
    "Party_Types = trades.party.value_counts()[:10]\n",
    "\n",
    "display(Party_Types)\n",
    "\n",
    "(Party_Types.plot(kind='bar'))"
   ]
  },
  {
   "cell_type": "code",
   "execution_count": 36,
   "metadata": {},
   "outputs": [
    {
     "data": {
      "text/plain": [
       "transaction_date\n",
       "4     852\n",
       "3     649\n",
       "2     581\n",
       "1     528\n",
       "8     458\n",
       "12    409\n",
       "11    394\n",
       "6     389\n",
       "9     339\n",
       "10    331\n",
       "7     300\n",
       "5     271\n",
       "Name: count, dtype: int64"
      ]
     },
     "execution_count": 36,
     "metadata": {},
     "output_type": "execute_result"
    }
   ],
   "source": [
    "trades['transaction_date'].dt.month.value_counts()"
   ]
  },
  {
   "cell_type": "code",
   "execution_count": 15,
   "metadata": {},
   "outputs": [],
   "source": [
    "#save cleaned up dataframe as trades_clean.csv for import into Tableau\n",
    "\n",
    "#trades.to_csv(\"trades_clean.csv\")"
   ]
  }
 ],
 "metadata": {
  "kernelspec": {
   "display_name": "Python 3",
   "language": "python",
   "name": "python3"
  },
  "language_info": {
   "codemirror_mode": {
    "name": "ipython",
    "version": 3
   },
   "file_extension": ".py",
   "mimetype": "text/x-python",
   "name": "python",
   "nbconvert_exporter": "python",
   "pygments_lexer": "ipython3",
   "version": "3.10.2"
  }
 },
 "nbformat": 4,
 "nbformat_minor": 2
}
